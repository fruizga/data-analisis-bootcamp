{
 "cells": [
  {
   "cell_type": "markdown",
   "metadata": {
    "id": "8ZqnooIPytTh"
   },
   "source": [
    "# **PRESA01-1 - Análisis de Datos Explorador - Básico - 2025-1 - L1 - ANTIOQUIA - G230 (TDA)**\n",
    "\n",
    "\n",
    "\n",
    "\n",
    "---\n",
    "\n",
    "\n",
    "\n",
    "\n",
    "\n",
    "## **Proyecto Final**\n",
    "\n",
    "### **Análisis de la Accidentalidad en el Municipio de Barbosa, Antioquia**\n",
    "\n",
    "\n",
    "\n",
    "\n",
    "---\n",
    "\n",
    "\n",
    "\n",
    "\n",
    "\n",
    "**Autor:**  \n",
    "Faber Andres Ruiz Gallego\n",
    "\n",
    "**Fecha:**  \n",
    "2025\n",
    "\n",
    "                                                      \n",
    "\n",
    "\n",
    "\n",
    "\n",
    "\n",
    "\n",
    "\n",
    "\n",
    "\n",
    "\n",
    "\n",
    "\n",
    "\n",
    "\n",
    "\n",
    "\n",
    "\n",
    "\n",
    "\n",
    "\n",
    "\n",
    "\n",
    "\n",
    "\n",
    "\n",
    "\n",
    "\n",
    "\n",
    "\n",
    "\n",
    "\n",
    "\n",
    "\n",
    "\n",
    "\n",
    "\n",
    "\n",
    "\n",
    "\n",
    "\n"
   ]
  },
  {
   "cell_type": "markdown",
   "metadata": {
    "id": "1hKPrdyUyhMg"
   },
   "source": [
    "# Introducción"
   ]
  },
  {
   "cell_type": "markdown",
   "metadata": {},
   "source": [
    "En busca de la aplicabilidad del conocimiento adquirido se busca analizar la accidentalidad ene l municipio de barbosa antioquia.\n",
    "Se pretende identificar tendencias en base a los datos tomados de la plataforma de datos abiertos de colombia, cargar el set de datos, importar las librerías requeridas de python, importar el set de datos. Ejecutar el análisis.\n",
    "\n"
   ]
  },
  {
   "cell_type": "markdown",
   "metadata": {},
   "source": [
    "# Desarrollo del análisis"
   ]
  },
  {
   "cell_type": "code",
   "execution_count": 2,
   "metadata": {
    "id": "bd9KEALUynsp"
   },
   "outputs": [
    {
     "data": {
      "text/html": [
       "<div>\n",
       "<style scoped>\n",
       "    .dataframe tbody tr th:only-of-type {\n",
       "        vertical-align: middle;\n",
       "    }\n",
       "\n",
       "    .dataframe tbody tr th {\n",
       "        vertical-align: top;\n",
       "    }\n",
       "\n",
       "    .dataframe thead th {\n",
       "        text-align: right;\n",
       "    }\n",
       "</style>\n",
       "<table border=\"1\" class=\"dataframe\">\n",
       "  <thead>\n",
       "    <tr style=\"text-align: right;\">\n",
       "      <th></th>\n",
       "      <th>RADICADO</th>\n",
       "      <th>FECHA ACCIDENTE</th>\n",
       "      <th>HORA ACCIDENTE</th>\n",
       "      <th>CLASE ACCIDENTE</th>\n",
       "      <th>GRAVEDAD</th>\n",
       "      <th>CLASIFICACIÓN</th>\n",
       "      <th>DIRECCION</th>\n",
       "      <th>BARRIO</th>\n",
       "      <th>AREA ACCIDENTE</th>\n",
       "      <th>ESTADO DELTIEMPO</th>\n",
       "      <th>No. VICTIMA PEATON</th>\n",
       "      <th>No. VICTIMA ACOMPANANTE</th>\n",
       "      <th>No. VICTIMA PASAJERO</th>\n",
       "      <th>No. VICTIMA CONDUCTOR</th>\n",
       "      <th>No. VICTIMA HERIDO</th>\n",
       "      <th>No. VICTIMA MUERTO</th>\n",
       "    </tr>\n",
       "  </thead>\n",
       "  <tbody>\n",
       "    <tr>\n",
       "      <th>0</th>\n",
       "      <td>20504</td>\n",
       "      <td>02/03/0022 12:00:00 AM</td>\n",
       "      <td>6:00:00</td>\n",
       "      <td>Choque</td>\n",
       "      <td>herido</td>\n",
       "      <td>Conductor</td>\n",
       "      <td>km 8+500 entrada vallecitos</td>\n",
       "      <td>Esmeralda</td>\n",
       "      <td>Urbana</td>\n",
       "      <td>Normal</td>\n",
       "      <td>0.0</td>\n",
       "      <td>0.0</td>\n",
       "      <td>0.0</td>\n",
       "      <td>2.0</td>\n",
       "      <td>2.0</td>\n",
       "      <td>0.0</td>\n",
       "    </tr>\n",
       "    <tr>\n",
       "      <th>1</th>\n",
       "      <td>20521</td>\n",
       "      <td>09/03/0022 12:00:00 AM</td>\n",
       "      <td>8:30:00</td>\n",
       "      <td>Choque</td>\n",
       "      <td>herido</td>\n",
       "      <td>Ciclista-Motociclista</td>\n",
       "      <td>vereda yarumito- km 10 + 700</td>\n",
       "      <td>Esmeralda</td>\n",
       "      <td>Rural</td>\n",
       "      <td>Normal</td>\n",
       "      <td>0.0</td>\n",
       "      <td>0.0</td>\n",
       "      <td>0.0</td>\n",
       "      <td>2.0</td>\n",
       "      <td>2.0</td>\n",
       "      <td>0.0</td>\n",
       "    </tr>\n",
       "    <tr>\n",
       "      <th>2</th>\n",
       "      <td>20522</td>\n",
       "      <td>02/03/0022 12:00:00 AM</td>\n",
       "      <td>5:05:00</td>\n",
       "      <td>Choque</td>\n",
       "      <td>herido</td>\n",
       "      <td>Ciclista-Motociclista</td>\n",
       "      <td>MATAZANOS  KM 34 + 550</td>\n",
       "      <td>Esmeralda</td>\n",
       "      <td>Rural</td>\n",
       "      <td>Lluvia</td>\n",
       "      <td>0.0</td>\n",
       "      <td>0.0</td>\n",
       "      <td>0.0</td>\n",
       "      <td>1.0</td>\n",
       "      <td>1.0</td>\n",
       "      <td>0.0</td>\n",
       "    </tr>\n",
       "    <tr>\n",
       "      <th>3</th>\n",
       "      <td>20528</td>\n",
       "      <td>10/03/0022 12:00:00 AM</td>\n",
       "      <td>20:00:00</td>\n",
       "      <td>Volcamiento</td>\n",
       "      <td>herido</td>\n",
       "      <td>Ciclista-Motociclista</td>\n",
       "      <td>CRA 17 CON CALLE 10</td>\n",
       "      <td>Parq.De Las Aguas</td>\n",
       "      <td>Urbana</td>\n",
       "      <td>Normal</td>\n",
       "      <td>0.0</td>\n",
       "      <td>0.0</td>\n",
       "      <td>0.0</td>\n",
       "      <td>1.0</td>\n",
       "      <td>1.0</td>\n",
       "      <td>0.0</td>\n",
       "    </tr>\n",
       "    <tr>\n",
       "      <th>4</th>\n",
       "      <td>20529</td>\n",
       "      <td>01/16/2022 12:00:00 AM</td>\n",
       "      <td>19:00:00</td>\n",
       "      <td>Choque</td>\n",
       "      <td>herido</td>\n",
       "      <td>Ciclista-Motociclista</td>\n",
       "      <td>vereda platanito- km 6 + 500</td>\n",
       "      <td>Esmeralda</td>\n",
       "      <td>Rural</td>\n",
       "      <td>Normal</td>\n",
       "      <td>0.0</td>\n",
       "      <td>0.0</td>\n",
       "      <td>0.0</td>\n",
       "      <td>1.0</td>\n",
       "      <td>1.0</td>\n",
       "      <td>0.0</td>\n",
       "    </tr>\n",
       "    <tr>\n",
       "      <th>...</th>\n",
       "      <td>...</td>\n",
       "      <td>...</td>\n",
       "      <td>...</td>\n",
       "      <td>...</td>\n",
       "      <td>...</td>\n",
       "      <td>...</td>\n",
       "      <td>...</td>\n",
       "      <td>...</td>\n",
       "      <td>...</td>\n",
       "      <td>...</td>\n",
       "      <td>...</td>\n",
       "      <td>...</td>\n",
       "      <td>...</td>\n",
       "      <td>...</td>\n",
       "      <td>...</td>\n",
       "      <td>...</td>\n",
       "    </tr>\n",
       "    <tr>\n",
       "      <th>843</th>\n",
       "      <td>21325</td>\n",
       "      <td>07/07/2023 12:00:00 AM</td>\n",
       "      <td>12:10:00</td>\n",
       "      <td>Choque</td>\n",
       "      <td>herido</td>\n",
       "      <td>Ciclista-Motociclista</td>\n",
       "      <td>carrera 15 calle10</td>\n",
       "      <td>Esmeralda</td>\n",
       "      <td>Urbana</td>\n",
       "      <td>Normal</td>\n",
       "      <td>0.0</td>\n",
       "      <td>0.0</td>\n",
       "      <td>1.0</td>\n",
       "      <td>2.0</td>\n",
       "      <td>3.0</td>\n",
       "      <td>0.0</td>\n",
       "    </tr>\n",
       "    <tr>\n",
       "      <th>844</th>\n",
       "      <td>21326</td>\n",
       "      <td>07/09/2023 12:00:00 AM</td>\n",
       "      <td>19:50:00</td>\n",
       "      <td>Choque</td>\n",
       "      <td>herido</td>\n",
       "      <td>Ciclista-Motociclista</td>\n",
       "      <td>via pradera hatillo k 15+160</td>\n",
       "      <td>Esmeralda</td>\n",
       "      <td>Rural</td>\n",
       "      <td>Normal</td>\n",
       "      <td>0.0</td>\n",
       "      <td>0.0</td>\n",
       "      <td>1.0</td>\n",
       "      <td>1.0</td>\n",
       "      <td>2.0</td>\n",
       "      <td>0.0</td>\n",
       "    </tr>\n",
       "    <tr>\n",
       "      <th>845</th>\n",
       "      <td>21327</td>\n",
       "      <td>07/09/2023 12:00:00 AM</td>\n",
       "      <td>16:50:00</td>\n",
       "      <td>Choque</td>\n",
       "      <td>herido</td>\n",
       "      <td>Ciclista-Motociclista</td>\n",
       "      <td>ruta 6205 kilometro 4 + 000 vereda el eco</td>\n",
       "      <td>Esmeralda</td>\n",
       "      <td>Rural</td>\n",
       "      <td>Normal</td>\n",
       "      <td>0.0</td>\n",
       "      <td>1.0</td>\n",
       "      <td>0.0</td>\n",
       "      <td>1.0</td>\n",
       "      <td>2.0</td>\n",
       "      <td>0.0</td>\n",
       "    </tr>\n",
       "    <tr>\n",
       "      <th>846</th>\n",
       "      <td>21328</td>\n",
       "      <td>07/07/2023 12:00:00 AM</td>\n",
       "      <td>8:00:00</td>\n",
       "      <td>Choque</td>\n",
       "      <td>herido</td>\n",
       "      <td>Ciclista-Motociclista</td>\n",
       "      <td>via hatillo bello k23 + 300</td>\n",
       "      <td>Esmeralda</td>\n",
       "      <td>Rural</td>\n",
       "      <td>Normal</td>\n",
       "      <td>0.0</td>\n",
       "      <td>0.0</td>\n",
       "      <td>0.0</td>\n",
       "      <td>1.0</td>\n",
       "      <td>1.0</td>\n",
       "      <td>0.0</td>\n",
       "    </tr>\n",
       "    <tr>\n",
       "      <th>847</th>\n",
       "      <td>21383</td>\n",
       "      <td>09/12/2023 12:00:00 AM</td>\n",
       "      <td>18:00:00</td>\n",
       "      <td>Choque</td>\n",
       "      <td>herido</td>\n",
       "      <td>Ciclista-Motociclista</td>\n",
       "      <td>VEREDA PLATANITO</td>\n",
       "      <td>Esmeralda</td>\n",
       "      <td>Rural</td>\n",
       "      <td>Normal</td>\n",
       "      <td>0.0</td>\n",
       "      <td>0.0</td>\n",
       "      <td>0.0</td>\n",
       "      <td>1.0</td>\n",
       "      <td>1.0</td>\n",
       "      <td>0.0</td>\n",
       "    </tr>\n",
       "  </tbody>\n",
       "</table>\n",
       "<p>848 rows × 16 columns</p>\n",
       "</div>"
      ],
      "text/plain": [
       "     RADICADO         FECHA ACCIDENTE HORA ACCIDENTE CLASE ACCIDENTE GRAVEDAD  \\\n",
       "0       20504  02/03/0022 12:00:00 AM        6:00:00          Choque   herido   \n",
       "1       20521  09/03/0022 12:00:00 AM        8:30:00          Choque   herido   \n",
       "2       20522  02/03/0022 12:00:00 AM        5:05:00          Choque   herido   \n",
       "3       20528  10/03/0022 12:00:00 AM       20:00:00     Volcamiento   herido   \n",
       "4       20529  01/16/2022 12:00:00 AM       19:00:00          Choque   herido   \n",
       "..        ...                     ...            ...             ...      ...   \n",
       "843     21325  07/07/2023 12:00:00 AM       12:10:00          Choque   herido   \n",
       "844     21326  07/09/2023 12:00:00 AM       19:50:00          Choque   herido   \n",
       "845     21327  07/09/2023 12:00:00 AM       16:50:00          Choque   herido   \n",
       "846     21328  07/07/2023 12:00:00 AM        8:00:00          Choque   herido   \n",
       "847     21383  09/12/2023 12:00:00 AM       18:00:00          Choque   herido   \n",
       "\n",
       "             CLASIFICACIÓN                                  DIRECCION  \\\n",
       "0                Conductor                km 8+500 entrada vallecitos   \n",
       "1    Ciclista-Motociclista               vereda yarumito- km 10 + 700   \n",
       "2    Ciclista-Motociclista                     MATAZANOS  KM 34 + 550   \n",
       "3    Ciclista-Motociclista                        CRA 17 CON CALLE 10   \n",
       "4    Ciclista-Motociclista               vereda platanito- km 6 + 500   \n",
       "..                     ...                                        ...   \n",
       "843  Ciclista-Motociclista                         carrera 15 calle10   \n",
       "844  Ciclista-Motociclista               via pradera hatillo k 15+160   \n",
       "845  Ciclista-Motociclista  ruta 6205 kilometro 4 + 000 vereda el eco   \n",
       "846  Ciclista-Motociclista                via hatillo bello k23 + 300   \n",
       "847  Ciclista-Motociclista                           VEREDA PLATANITO   \n",
       "\n",
       "                BARRIO AREA ACCIDENTE ESTADO DELTIEMPO  No. VICTIMA PEATON  \\\n",
       "0            Esmeralda         Urbana           Normal                 0.0   \n",
       "1            Esmeralda          Rural           Normal                 0.0   \n",
       "2            Esmeralda          Rural           Lluvia                 0.0   \n",
       "3    Parq.De Las Aguas         Urbana           Normal                 0.0   \n",
       "4            Esmeralda          Rural           Normal                 0.0   \n",
       "..                 ...            ...              ...                 ...   \n",
       "843          Esmeralda         Urbana           Normal                 0.0   \n",
       "844          Esmeralda          Rural           Normal                 0.0   \n",
       "845          Esmeralda          Rural           Normal                 0.0   \n",
       "846          Esmeralda          Rural           Normal                 0.0   \n",
       "847          Esmeralda          Rural           Normal                 0.0   \n",
       "\n",
       "     No. VICTIMA ACOMPANANTE  No. VICTIMA PASAJERO  No. VICTIMA CONDUCTOR  \\\n",
       "0                        0.0                   0.0                    2.0   \n",
       "1                        0.0                   0.0                    2.0   \n",
       "2                        0.0                   0.0                    1.0   \n",
       "3                        0.0                   0.0                    1.0   \n",
       "4                        0.0                   0.0                    1.0   \n",
       "..                       ...                   ...                    ...   \n",
       "843                      0.0                   1.0                    2.0   \n",
       "844                      0.0                   1.0                    1.0   \n",
       "845                      1.0                   0.0                    1.0   \n",
       "846                      0.0                   0.0                    1.0   \n",
       "847                      0.0                   0.0                    1.0   \n",
       "\n",
       "     No. VICTIMA HERIDO  No. VICTIMA MUERTO  \n",
       "0                   2.0                 0.0  \n",
       "1                   2.0                 0.0  \n",
       "2                   1.0                 0.0  \n",
       "3                   1.0                 0.0  \n",
       "4                   1.0                 0.0  \n",
       "..                  ...                 ...  \n",
       "843                 3.0                 0.0  \n",
       "844                 2.0                 0.0  \n",
       "845                 2.0                 0.0  \n",
       "846                 1.0                 0.0  \n",
       "847                 1.0                 0.0  \n",
       "\n",
       "[848 rows x 16 columns]"
      ]
     },
     "execution_count": 2,
     "metadata": {},
     "output_type": "execute_result"
    }
   ],
   "source": [
    "#Importación de librerias y carga de dataset\n",
    "import pandas as pd\n",
    "import numpy as np\n",
    "import matplotlib.pyplot as plt\n",
    "import seaborn as sns\n",
    "\n",
    "df_original = pd.read_csv('Accidentalidad_del_Municipio_de_Barbosa_Antioquia_20250718.csv')\n",
    "df_original"
   ]
  },
  {
   "cell_type": "code",
   "execution_count": 3,
   "metadata": {},
   "outputs": [],
   "source": [
    "# Creamos una copia del dataset para conservar el original sin alterarlo\n",
    "df_caso = df_original.copy()"
   ]
  },
  {
   "cell_type": "code",
   "execution_count": 5,
   "metadata": {},
   "outputs": [
    {
     "data": {
      "text/html": [
       "<div>\n",
       "<style scoped>\n",
       "    .dataframe tbody tr th:only-of-type {\n",
       "        vertical-align: middle;\n",
       "    }\n",
       "\n",
       "    .dataframe tbody tr th {\n",
       "        vertical-align: top;\n",
       "    }\n",
       "\n",
       "    .dataframe thead th {\n",
       "        text-align: right;\n",
       "    }\n",
       "</style>\n",
       "<table border=\"1\" class=\"dataframe\">\n",
       "  <thead>\n",
       "    <tr style=\"text-align: right;\">\n",
       "      <th></th>\n",
       "      <th>RADICADO</th>\n",
       "      <th>FECHA ACCIDENTE</th>\n",
       "      <th>HORA ACCIDENTE</th>\n",
       "      <th>CLASE ACCIDENTE</th>\n",
       "      <th>GRAVEDAD</th>\n",
       "      <th>CLASIFICACIÓN</th>\n",
       "      <th>DIRECCION</th>\n",
       "      <th>BARRIO</th>\n",
       "      <th>AREA ACCIDENTE</th>\n",
       "      <th>ESTADO DELTIEMPO</th>\n",
       "      <th>No. VICTIMA PEATON</th>\n",
       "      <th>No. VICTIMA ACOMPANANTE</th>\n",
       "      <th>No. VICTIMA PASAJERO</th>\n",
       "      <th>No. VICTIMA CONDUCTOR</th>\n",
       "      <th>No. VICTIMA HERIDO</th>\n",
       "      <th>No. VICTIMA MUERTO</th>\n",
       "    </tr>\n",
       "  </thead>\n",
       "  <tbody>\n",
       "    <tr>\n",
       "      <th>0</th>\n",
       "      <td>20504</td>\n",
       "      <td>02/03/0022 12:00:00 AM</td>\n",
       "      <td>6:00:00</td>\n",
       "      <td>Choque</td>\n",
       "      <td>herido</td>\n",
       "      <td>Conductor</td>\n",
       "      <td>km 8+500 entrada vallecitos</td>\n",
       "      <td>Esmeralda</td>\n",
       "      <td>Urbana</td>\n",
       "      <td>Normal</td>\n",
       "      <td>0.0</td>\n",
       "      <td>0.0</td>\n",
       "      <td>0.0</td>\n",
       "      <td>2.0</td>\n",
       "      <td>2.0</td>\n",
       "      <td>0.0</td>\n",
       "    </tr>\n",
       "    <tr>\n",
       "      <th>1</th>\n",
       "      <td>20521</td>\n",
       "      <td>09/03/0022 12:00:00 AM</td>\n",
       "      <td>8:30:00</td>\n",
       "      <td>Choque</td>\n",
       "      <td>herido</td>\n",
       "      <td>Ciclista-Motociclista</td>\n",
       "      <td>vereda yarumito- km 10 + 700</td>\n",
       "      <td>Esmeralda</td>\n",
       "      <td>Rural</td>\n",
       "      <td>Normal</td>\n",
       "      <td>0.0</td>\n",
       "      <td>0.0</td>\n",
       "      <td>0.0</td>\n",
       "      <td>2.0</td>\n",
       "      <td>2.0</td>\n",
       "      <td>0.0</td>\n",
       "    </tr>\n",
       "    <tr>\n",
       "      <th>2</th>\n",
       "      <td>20522</td>\n",
       "      <td>02/03/0022 12:00:00 AM</td>\n",
       "      <td>5:05:00</td>\n",
       "      <td>Choque</td>\n",
       "      <td>herido</td>\n",
       "      <td>Ciclista-Motociclista</td>\n",
       "      <td>MATAZANOS  KM 34 + 550</td>\n",
       "      <td>Esmeralda</td>\n",
       "      <td>Rural</td>\n",
       "      <td>Lluvia</td>\n",
       "      <td>0.0</td>\n",
       "      <td>0.0</td>\n",
       "      <td>0.0</td>\n",
       "      <td>1.0</td>\n",
       "      <td>1.0</td>\n",
       "      <td>0.0</td>\n",
       "    </tr>\n",
       "    <tr>\n",
       "      <th>3</th>\n",
       "      <td>20528</td>\n",
       "      <td>10/03/0022 12:00:00 AM</td>\n",
       "      <td>20:00:00</td>\n",
       "      <td>Volcamiento</td>\n",
       "      <td>herido</td>\n",
       "      <td>Ciclista-Motociclista</td>\n",
       "      <td>CRA 17 CON CALLE 10</td>\n",
       "      <td>Parq.De Las Aguas</td>\n",
       "      <td>Urbana</td>\n",
       "      <td>Normal</td>\n",
       "      <td>0.0</td>\n",
       "      <td>0.0</td>\n",
       "      <td>0.0</td>\n",
       "      <td>1.0</td>\n",
       "      <td>1.0</td>\n",
       "      <td>0.0</td>\n",
       "    </tr>\n",
       "    <tr>\n",
       "      <th>4</th>\n",
       "      <td>20529</td>\n",
       "      <td>01/16/2022 12:00:00 AM</td>\n",
       "      <td>19:00:00</td>\n",
       "      <td>Choque</td>\n",
       "      <td>herido</td>\n",
       "      <td>Ciclista-Motociclista</td>\n",
       "      <td>vereda platanito- km 6 + 500</td>\n",
       "      <td>Esmeralda</td>\n",
       "      <td>Rural</td>\n",
       "      <td>Normal</td>\n",
       "      <td>0.0</td>\n",
       "      <td>0.0</td>\n",
       "      <td>0.0</td>\n",
       "      <td>1.0</td>\n",
       "      <td>1.0</td>\n",
       "      <td>0.0</td>\n",
       "    </tr>\n",
       "    <tr>\n",
       "      <th>...</th>\n",
       "      <td>...</td>\n",
       "      <td>...</td>\n",
       "      <td>...</td>\n",
       "      <td>...</td>\n",
       "      <td>...</td>\n",
       "      <td>...</td>\n",
       "      <td>...</td>\n",
       "      <td>...</td>\n",
       "      <td>...</td>\n",
       "      <td>...</td>\n",
       "      <td>...</td>\n",
       "      <td>...</td>\n",
       "      <td>...</td>\n",
       "      <td>...</td>\n",
       "      <td>...</td>\n",
       "      <td>...</td>\n",
       "    </tr>\n",
       "    <tr>\n",
       "      <th>843</th>\n",
       "      <td>21325</td>\n",
       "      <td>07/07/2023 12:00:00 AM</td>\n",
       "      <td>12:10:00</td>\n",
       "      <td>Choque</td>\n",
       "      <td>herido</td>\n",
       "      <td>Ciclista-Motociclista</td>\n",
       "      <td>carrera 15 calle10</td>\n",
       "      <td>Esmeralda</td>\n",
       "      <td>Urbana</td>\n",
       "      <td>Normal</td>\n",
       "      <td>0.0</td>\n",
       "      <td>0.0</td>\n",
       "      <td>1.0</td>\n",
       "      <td>2.0</td>\n",
       "      <td>3.0</td>\n",
       "      <td>0.0</td>\n",
       "    </tr>\n",
       "    <tr>\n",
       "      <th>844</th>\n",
       "      <td>21326</td>\n",
       "      <td>07/09/2023 12:00:00 AM</td>\n",
       "      <td>19:50:00</td>\n",
       "      <td>Choque</td>\n",
       "      <td>herido</td>\n",
       "      <td>Ciclista-Motociclista</td>\n",
       "      <td>via pradera hatillo k 15+160</td>\n",
       "      <td>Esmeralda</td>\n",
       "      <td>Rural</td>\n",
       "      <td>Normal</td>\n",
       "      <td>0.0</td>\n",
       "      <td>0.0</td>\n",
       "      <td>1.0</td>\n",
       "      <td>1.0</td>\n",
       "      <td>2.0</td>\n",
       "      <td>0.0</td>\n",
       "    </tr>\n",
       "    <tr>\n",
       "      <th>845</th>\n",
       "      <td>21327</td>\n",
       "      <td>07/09/2023 12:00:00 AM</td>\n",
       "      <td>16:50:00</td>\n",
       "      <td>Choque</td>\n",
       "      <td>herido</td>\n",
       "      <td>Ciclista-Motociclista</td>\n",
       "      <td>ruta 6205 kilometro 4 + 000 vereda el eco</td>\n",
       "      <td>Esmeralda</td>\n",
       "      <td>Rural</td>\n",
       "      <td>Normal</td>\n",
       "      <td>0.0</td>\n",
       "      <td>1.0</td>\n",
       "      <td>0.0</td>\n",
       "      <td>1.0</td>\n",
       "      <td>2.0</td>\n",
       "      <td>0.0</td>\n",
       "    </tr>\n",
       "    <tr>\n",
       "      <th>846</th>\n",
       "      <td>21328</td>\n",
       "      <td>07/07/2023 12:00:00 AM</td>\n",
       "      <td>8:00:00</td>\n",
       "      <td>Choque</td>\n",
       "      <td>herido</td>\n",
       "      <td>Ciclista-Motociclista</td>\n",
       "      <td>via hatillo bello k23 + 300</td>\n",
       "      <td>Esmeralda</td>\n",
       "      <td>Rural</td>\n",
       "      <td>Normal</td>\n",
       "      <td>0.0</td>\n",
       "      <td>0.0</td>\n",
       "      <td>0.0</td>\n",
       "      <td>1.0</td>\n",
       "      <td>1.0</td>\n",
       "      <td>0.0</td>\n",
       "    </tr>\n",
       "    <tr>\n",
       "      <th>847</th>\n",
       "      <td>21383</td>\n",
       "      <td>09/12/2023 12:00:00 AM</td>\n",
       "      <td>18:00:00</td>\n",
       "      <td>Choque</td>\n",
       "      <td>herido</td>\n",
       "      <td>Ciclista-Motociclista</td>\n",
       "      <td>VEREDA PLATANITO</td>\n",
       "      <td>Esmeralda</td>\n",
       "      <td>Rural</td>\n",
       "      <td>Normal</td>\n",
       "      <td>0.0</td>\n",
       "      <td>0.0</td>\n",
       "      <td>0.0</td>\n",
       "      <td>1.0</td>\n",
       "      <td>1.0</td>\n",
       "      <td>0.0</td>\n",
       "    </tr>\n",
       "  </tbody>\n",
       "</table>\n",
       "<p>848 rows × 16 columns</p>\n",
       "</div>"
      ],
      "text/plain": [
       "     RADICADO         FECHA ACCIDENTE HORA ACCIDENTE CLASE ACCIDENTE GRAVEDAD  \\\n",
       "0       20504  02/03/0022 12:00:00 AM        6:00:00          Choque   herido   \n",
       "1       20521  09/03/0022 12:00:00 AM        8:30:00          Choque   herido   \n",
       "2       20522  02/03/0022 12:00:00 AM        5:05:00          Choque   herido   \n",
       "3       20528  10/03/0022 12:00:00 AM       20:00:00     Volcamiento   herido   \n",
       "4       20529  01/16/2022 12:00:00 AM       19:00:00          Choque   herido   \n",
       "..        ...                     ...            ...             ...      ...   \n",
       "843     21325  07/07/2023 12:00:00 AM       12:10:00          Choque   herido   \n",
       "844     21326  07/09/2023 12:00:00 AM       19:50:00          Choque   herido   \n",
       "845     21327  07/09/2023 12:00:00 AM       16:50:00          Choque   herido   \n",
       "846     21328  07/07/2023 12:00:00 AM        8:00:00          Choque   herido   \n",
       "847     21383  09/12/2023 12:00:00 AM       18:00:00          Choque   herido   \n",
       "\n",
       "             CLASIFICACIÓN                                  DIRECCION  \\\n",
       "0                Conductor                km 8+500 entrada vallecitos   \n",
       "1    Ciclista-Motociclista               vereda yarumito- km 10 + 700   \n",
       "2    Ciclista-Motociclista                     MATAZANOS  KM 34 + 550   \n",
       "3    Ciclista-Motociclista                        CRA 17 CON CALLE 10   \n",
       "4    Ciclista-Motociclista               vereda platanito- km 6 + 500   \n",
       "..                     ...                                        ...   \n",
       "843  Ciclista-Motociclista                         carrera 15 calle10   \n",
       "844  Ciclista-Motociclista               via pradera hatillo k 15+160   \n",
       "845  Ciclista-Motociclista  ruta 6205 kilometro 4 + 000 vereda el eco   \n",
       "846  Ciclista-Motociclista                via hatillo bello k23 + 300   \n",
       "847  Ciclista-Motociclista                           VEREDA PLATANITO   \n",
       "\n",
       "                BARRIO AREA ACCIDENTE ESTADO DELTIEMPO  No. VICTIMA PEATON  \\\n",
       "0            Esmeralda         Urbana           Normal                 0.0   \n",
       "1            Esmeralda          Rural           Normal                 0.0   \n",
       "2            Esmeralda          Rural           Lluvia                 0.0   \n",
       "3    Parq.De Las Aguas         Urbana           Normal                 0.0   \n",
       "4            Esmeralda          Rural           Normal                 0.0   \n",
       "..                 ...            ...              ...                 ...   \n",
       "843          Esmeralda         Urbana           Normal                 0.0   \n",
       "844          Esmeralda          Rural           Normal                 0.0   \n",
       "845          Esmeralda          Rural           Normal                 0.0   \n",
       "846          Esmeralda          Rural           Normal                 0.0   \n",
       "847          Esmeralda          Rural           Normal                 0.0   \n",
       "\n",
       "     No. VICTIMA ACOMPANANTE  No. VICTIMA PASAJERO  No. VICTIMA CONDUCTOR  \\\n",
       "0                        0.0                   0.0                    2.0   \n",
       "1                        0.0                   0.0                    2.0   \n",
       "2                        0.0                   0.0                    1.0   \n",
       "3                        0.0                   0.0                    1.0   \n",
       "4                        0.0                   0.0                    1.0   \n",
       "..                       ...                   ...                    ...   \n",
       "843                      0.0                   1.0                    2.0   \n",
       "844                      0.0                   1.0                    1.0   \n",
       "845                      1.0                   0.0                    1.0   \n",
       "846                      0.0                   0.0                    1.0   \n",
       "847                      0.0                   0.0                    1.0   \n",
       "\n",
       "     No. VICTIMA HERIDO  No. VICTIMA MUERTO  \n",
       "0                   2.0                 0.0  \n",
       "1                   2.0                 0.0  \n",
       "2                   1.0                 0.0  \n",
       "3                   1.0                 0.0  \n",
       "4                   1.0                 0.0  \n",
       "..                  ...                 ...  \n",
       "843                 3.0                 0.0  \n",
       "844                 2.0                 0.0  \n",
       "845                 2.0                 0.0  \n",
       "846                 1.0                 0.0  \n",
       "847                 1.0                 0.0  \n",
       "\n",
       "[848 rows x 16 columns]"
      ]
     },
     "execution_count": 5,
     "metadata": {},
     "output_type": "execute_result"
    }
   ],
   "source": [
    "df_caso"
   ]
  },
  {
   "cell_type": "code",
   "execution_count": 7,
   "metadata": {},
   "outputs": [
    {
     "data": {
      "text/plain": [
       "(848, 16)"
      ]
     },
     "execution_count": 7,
     "metadata": {},
     "output_type": "execute_result"
    }
   ],
   "source": [
    "# Conccer el tamaño (dimensión) imensión del dataframe\n",
    "df_caso.shape"
   ]
  },
  {
   "cell_type": "code",
   "execution_count": 10,
   "metadata": {},
   "outputs": [
    {
     "data": {
      "text/plain": [
       "RADICADO                   0\n",
       "FECHA ACCIDENTE            0\n",
       "HORA ACCIDENTE             0\n",
       "CLASE ACCIDENTE            0\n",
       "GRAVEDAD                   0\n",
       "CLASIFICACIÓN              0\n",
       "DIRECCION                  2\n",
       "BARRIO                     0\n",
       "AREA ACCIDENTE             0\n",
       "ESTADO DELTIEMPO           0\n",
       "No. VICTIMA PEATON         4\n",
       "No. VICTIMA ACOMPANANTE    4\n",
       "No. VICTIMA PASAJERO       4\n",
       "No. VICTIMA CONDUCTOR      4\n",
       "No. VICTIMA HERIDO         4\n",
       "No. VICTIMA MUERTO         4\n",
       "dtype: int64"
      ]
     },
     "execution_count": 10,
     "metadata": {},
     "output_type": "execute_result"
    }
   ],
   "source": [
    "# Revisamos si el dataset contiene valores nulos\n",
    "df_caso.isnull().sum()"
   ]
  },
  {
   "cell_type": "markdown",
   "metadata": {},
   "source": [
    "Podemos notar que las columnas No. VICTIMA PEATON , No. VICTIMA ACOMPANANTE, No. VICTIMA PASAJERO, No. VICTIMA CONDUCTOR, No. VICTIMA HERIDO, \n",
    "No. VICTIMA MUERTO contienes rgistros nulos"
   ]
  },
  {
   "cell_type": "code",
   "execution_count": null,
   "metadata": {},
   "outputs": [],
   "source": []
  },
  {
   "cell_type": "code",
   "execution_count": 11,
   "metadata": {},
   "outputs": [
    {
     "data": {
      "text/plain": [
       "np.int64(0)"
      ]
     },
     "execution_count": 11,
     "metadata": {},
     "output_type": "execute_result"
    }
   ],
   "source": [
    "# Revisamos existencia de registros duplicados\n",
    "df_caso.duplicated().sum()"
   ]
  },
  {
   "cell_type": "code",
   "execution_count": 16,
   "metadata": {},
   "outputs": [
    {
     "name": "stdout",
     "output_type": "stream",
     "text": [
      "RADICADO                            int64\n",
      "FECHA ACCIDENTE            datetime64[ns]\n",
      "HORA ACCIDENTE                     object\n",
      "CLASE ACCIDENTE                    object\n",
      "GRAVEDAD                           object\n",
      "CLASIFICACIÓN                      object\n",
      "DIRECCION                          object\n",
      "BARRIO                             object\n",
      "AREA ACCIDENTE                     object\n",
      "ESTADO DELTIEMPO                   object\n",
      "No. VICTIMA PEATON                float64\n",
      "No. VICTIMA ACOMPANANTE           float64\n",
      "No. VICTIMA PASAJERO              float64\n",
      "No. VICTIMA CONDUCTOR             float64\n",
      "No. VICTIMA HERIDO                float64\n",
      "No. VICTIMA MUERTO                float64\n",
      "dtype: object\n"
     ]
    }
   ],
   "source": [
    "# Identifiamos el tipo de datos en las columnas\n",
    "print(df_caso.dtypes)"
   ]
  },
  {
   "cell_type": "code",
   "execution_count": 46,
   "metadata": {},
   "outputs": [],
   "source": [
    "# Convertir fecha a string\n",
    "df_caso['FECHA ACCIDENTE'] = df_caso['FECHA ACCIDENTE'].dt.strftime('%d-%m-%Y')"
   ]
  },
  {
   "cell_type": "code",
   "execution_count": 47,
   "metadata": {},
   "outputs": [],
   "source": [
    "# Limpieza y corrección de datos, reemplazar año 0022 por 2022\n",
    "df_caso['FECHA ACCIDENTE'] = df_caso['FECHA ACCIDENTE'].str.replace('0022', '2022')"
   ]
  },
  {
   "cell_type": "code",
   "execution_count": 49,
   "metadata": {},
   "outputs": [],
   "source": [
    "# Convertir la columna a datetime\n",
    "df_caso['HORA ACCIDENTE'] = pd.to_datetime(df_caso['HORA ACCIDENTE'], errors='coerce')"
   ]
  },
  {
   "cell_type": "code",
   "execution_count": 50,
   "metadata": {},
   "outputs": [
    {
     "name": "stdout",
     "output_type": "stream",
     "text": [
      "RADICADO                            int64\n",
      "FECHA ACCIDENTE            datetime64[ns]\n",
      "HORA ACCIDENTE             datetime64[ns]\n",
      "CLASE ACCIDENTE                    object\n",
      "GRAVEDAD                           object\n",
      "CLASIFICACIÓN                      object\n",
      "DIRECCION                          object\n",
      "BARRIO                             object\n",
      "AREA ACCIDENTE                     object\n",
      "ESTADO DELTIEMPO                   object\n",
      "No. VICTIMA PEATON                float64\n",
      "No. VICTIMA ACOMPANANTE           float64\n",
      "No. VICTIMA PASAJERO              float64\n",
      "No. VICTIMA CONDUCTOR             float64\n",
      "No. VICTIMA HERIDO                float64\n",
      "No. VICTIMA MUERTO                float64\n",
      "dtype: object\n"
     ]
    }
   ],
   "source": [
    "print(df_caso.dtypes)"
   ]
  },
  {
   "cell_type": "markdown",
   "metadata": {},
   "source": [
    "Evidenciamos que las columnas fecha y hora ya son de tipo datetime y que las asociadas a los diferentes tipos de victima, son de tipo float.\n",
    "\n",
    "Al tener estas columnas de tipo númerico, vamos a calcular la media de cada columna y reemplazar los valores nulos por la edia respectiva."
   ]
  },
  {
   "cell_type": "code",
   "execution_count": 37,
   "metadata": {},
   "outputs": [],
   "source": [
    "#REEMPLAZAR NAN POR LA MEDIA EN COLUMNAS NUMNERICAS\n",
    "\n",
    "numeric_cols = df_caso.select_dtypes(include=['number']).columns\n",
    "df_caso[numeric_cols] = df_caso[numeric_cols].fillna(df_caso[numeric_cols].mean())"
   ]
  },
  {
   "cell_type": "code",
   "execution_count": 57,
   "metadata": {},
   "outputs": [
    {
     "data": {
      "text/plain": [
       "RADICADO                     0\n",
       "FECHA ACCIDENTE            248\n",
       "HORA ACCIDENTE             848\n",
       "CLASE ACCIDENTE              0\n",
       "GRAVEDAD                     0\n",
       "CLASIFICACIÓN                0\n",
       "DIRECCION                    2\n",
       "BARRIO                       0\n",
       "AREA ACCIDENTE               0\n",
       "ESTADO DELTIEMPO             0\n",
       "No. VICTIMA PEATON           0\n",
       "No. VICTIMA ACOMPANANTE      0\n",
       "No. VICTIMA PASAJERO         0\n",
       "No. VICTIMA CONDUCTOR        0\n",
       "No. VICTIMA HERIDO           0\n",
       "No. VICTIMA MUERTO           0\n",
       "dtype: int64"
      ]
     },
     "execution_count": 57,
     "metadata": {},
     "output_type": "execute_result"
    }
   ],
   "source": [
    "# Revisamos si el dataset contiene valores nulos\n",
    "df_caso.isnull().sum()"
   ]
  },
  {
   "cell_type": "markdown",
   "metadata": {},
   "source": [
    "Como se cambió el tipo de dato de fecha y hora antes de tratar los campos numéricos, de están tomando por valores nulos algunas fechas y horas\n",
    "\n",
    "Por consiguiente, se genera un nuevo dataframe como copia del original"
   ]
  },
  {
   "cell_type": "code",
   "execution_count": 3,
   "metadata": {},
   "outputs": [],
   "source": [
    "df_duplicate = df_original.copy()"
   ]
  },
  {
   "cell_type": "code",
   "execution_count": 41,
   "metadata": {},
   "outputs": [],
   "source": [
    "#REEMPLAZAR NAN POR LA MEDIA EN COLUMNAS NUMNERICAS\n",
    "\n",
    "numeric_cols = df_duplicate.select_dtypes(include=['number']).columns\n",
    "df_duplicate[numeric_cols] = df_duplicate[numeric_cols].fillna(df_caso[numeric_cols].mean())"
   ]
  },
  {
   "cell_type": "code",
   "execution_count": 43,
   "metadata": {},
   "outputs": [
    {
     "data": {
      "text/plain": [
       "RADICADO                   0\n",
       "FECHA ACCIDENTE            0\n",
       "HORA ACCIDENTE             0\n",
       "CLASE ACCIDENTE            0\n",
       "GRAVEDAD                   0\n",
       "CLASIFICACIÓN              0\n",
       "DIRECCION                  2\n",
       "BARRIO                     0\n",
       "AREA ACCIDENTE             0\n",
       "ESTADO DELTIEMPO           0\n",
       "No. VICTIMA PEATON         0\n",
       "No. VICTIMA ACOMPANANTE    0\n",
       "No. VICTIMA PASAJERO       0\n",
       "No. VICTIMA CONDUCTOR      0\n",
       "No. VICTIMA HERIDO         0\n",
       "No. VICTIMA MUERTO         0\n",
       "dtype: int64"
      ]
     },
     "execution_count": 43,
     "metadata": {},
     "output_type": "execute_result"
    }
   ],
   "source": [
    "# Revisamos si el dataset contiene valores nulos\n",
    "df_duplicate.isnull().sum()"
   ]
  },
  {
   "cell_type": "code",
   "execution_count": 45,
   "metadata": {},
   "outputs": [
    {
     "data": {
      "text/html": [
       "<div>\n",
       "<style scoped>\n",
       "    .dataframe tbody tr th:only-of-type {\n",
       "        vertical-align: middle;\n",
       "    }\n",
       "\n",
       "    .dataframe tbody tr th {\n",
       "        vertical-align: top;\n",
       "    }\n",
       "\n",
       "    .dataframe thead th {\n",
       "        text-align: right;\n",
       "    }\n",
       "</style>\n",
       "<table border=\"1\" class=\"dataframe\">\n",
       "  <thead>\n",
       "    <tr style=\"text-align: right;\">\n",
       "      <th></th>\n",
       "      <th>RADICADO</th>\n",
       "      <th>FECHA ACCIDENTE</th>\n",
       "      <th>HORA ACCIDENTE</th>\n",
       "      <th>CLASE ACCIDENTE</th>\n",
       "      <th>GRAVEDAD</th>\n",
       "      <th>CLASIFICACIÓN</th>\n",
       "      <th>DIRECCION</th>\n",
       "      <th>BARRIO</th>\n",
       "      <th>AREA ACCIDENTE</th>\n",
       "      <th>ESTADO DELTIEMPO</th>\n",
       "      <th>No. VICTIMA PEATON</th>\n",
       "      <th>No. VICTIMA ACOMPANANTE</th>\n",
       "      <th>No. VICTIMA PASAJERO</th>\n",
       "      <th>No. VICTIMA CONDUCTOR</th>\n",
       "      <th>No. VICTIMA HERIDO</th>\n",
       "      <th>No. VICTIMA MUERTO</th>\n",
       "    </tr>\n",
       "  </thead>\n",
       "  <tbody>\n",
       "    <tr>\n",
       "      <th>0</th>\n",
       "      <td>20504</td>\n",
       "      <td>NaT</td>\n",
       "      <td>NaT</td>\n",
       "      <td>Choque</td>\n",
       "      <td>herido</td>\n",
       "      <td>Conductor</td>\n",
       "      <td>km 8+500 entrada vallecitos</td>\n",
       "      <td>Esmeralda</td>\n",
       "      <td>Urbana</td>\n",
       "      <td>Normal</td>\n",
       "      <td>0.0</td>\n",
       "      <td>0.0</td>\n",
       "      <td>0.0</td>\n",
       "      <td>2.0</td>\n",
       "      <td>2.0</td>\n",
       "      <td>0.0</td>\n",
       "    </tr>\n",
       "    <tr>\n",
       "      <th>1</th>\n",
       "      <td>20521</td>\n",
       "      <td>NaT</td>\n",
       "      <td>NaT</td>\n",
       "      <td>Choque</td>\n",
       "      <td>herido</td>\n",
       "      <td>Ciclista-Motociclista</td>\n",
       "      <td>vereda yarumito- km 10 + 700</td>\n",
       "      <td>Esmeralda</td>\n",
       "      <td>Rural</td>\n",
       "      <td>Normal</td>\n",
       "      <td>0.0</td>\n",
       "      <td>0.0</td>\n",
       "      <td>0.0</td>\n",
       "      <td>2.0</td>\n",
       "      <td>2.0</td>\n",
       "      <td>0.0</td>\n",
       "    </tr>\n",
       "    <tr>\n",
       "      <th>2</th>\n",
       "      <td>20522</td>\n",
       "      <td>NaT</td>\n",
       "      <td>NaT</td>\n",
       "      <td>Choque</td>\n",
       "      <td>herido</td>\n",
       "      <td>Ciclista-Motociclista</td>\n",
       "      <td>MATAZANOS  KM 34 + 550</td>\n",
       "      <td>Esmeralda</td>\n",
       "      <td>Rural</td>\n",
       "      <td>Lluvia</td>\n",
       "      <td>0.0</td>\n",
       "      <td>0.0</td>\n",
       "      <td>0.0</td>\n",
       "      <td>1.0</td>\n",
       "      <td>1.0</td>\n",
       "      <td>0.0</td>\n",
       "    </tr>\n",
       "    <tr>\n",
       "      <th>3</th>\n",
       "      <td>20528</td>\n",
       "      <td>NaT</td>\n",
       "      <td>NaT</td>\n",
       "      <td>Volcamiento</td>\n",
       "      <td>herido</td>\n",
       "      <td>Ciclista-Motociclista</td>\n",
       "      <td>CRA 17 CON CALLE 10</td>\n",
       "      <td>Parq.De Las Aguas</td>\n",
       "      <td>Urbana</td>\n",
       "      <td>Normal</td>\n",
       "      <td>0.0</td>\n",
       "      <td>0.0</td>\n",
       "      <td>0.0</td>\n",
       "      <td>1.0</td>\n",
       "      <td>1.0</td>\n",
       "      <td>0.0</td>\n",
       "    </tr>\n",
       "    <tr>\n",
       "      <th>4</th>\n",
       "      <td>20529</td>\n",
       "      <td>2022-01-16</td>\n",
       "      <td>NaT</td>\n",
       "      <td>Choque</td>\n",
       "      <td>herido</td>\n",
       "      <td>Ciclista-Motociclista</td>\n",
       "      <td>vereda platanito- km 6 + 500</td>\n",
       "      <td>Esmeralda</td>\n",
       "      <td>Rural</td>\n",
       "      <td>Normal</td>\n",
       "      <td>0.0</td>\n",
       "      <td>0.0</td>\n",
       "      <td>0.0</td>\n",
       "      <td>1.0</td>\n",
       "      <td>1.0</td>\n",
       "      <td>0.0</td>\n",
       "    </tr>\n",
       "  </tbody>\n",
       "</table>\n",
       "</div>"
      ],
      "text/plain": [
       "   RADICADO FECHA ACCIDENTE HORA ACCIDENTE CLASE ACCIDENTE GRAVEDAD  \\\n",
       "0     20504             NaT            NaT          Choque   herido   \n",
       "1     20521             NaT            NaT          Choque   herido   \n",
       "2     20522             NaT            NaT          Choque   herido   \n",
       "3     20528             NaT            NaT     Volcamiento   herido   \n",
       "4     20529      2022-01-16            NaT          Choque   herido   \n",
       "\n",
       "           CLASIFICACIÓN                     DIRECCION             BARRIO  \\\n",
       "0              Conductor   km 8+500 entrada vallecitos          Esmeralda   \n",
       "1  Ciclista-Motociclista  vereda yarumito- km 10 + 700          Esmeralda   \n",
       "2  Ciclista-Motociclista        MATAZANOS  KM 34 + 550          Esmeralda   \n",
       "3  Ciclista-Motociclista           CRA 17 CON CALLE 10  Parq.De Las Aguas   \n",
       "4  Ciclista-Motociclista  vereda platanito- km 6 + 500          Esmeralda   \n",
       "\n",
       "  AREA ACCIDENTE ESTADO DELTIEMPO  No. VICTIMA PEATON  \\\n",
       "0         Urbana           Normal                 0.0   \n",
       "1          Rural           Normal                 0.0   \n",
       "2          Rural           Lluvia                 0.0   \n",
       "3         Urbana           Normal                 0.0   \n",
       "4          Rural           Normal                 0.0   \n",
       "\n",
       "   No. VICTIMA ACOMPANANTE  No. VICTIMA PASAJERO  No. VICTIMA CONDUCTOR  \\\n",
       "0                      0.0                   0.0                    2.0   \n",
       "1                      0.0                   0.0                    2.0   \n",
       "2                      0.0                   0.0                    1.0   \n",
       "3                      0.0                   0.0                    1.0   \n",
       "4                      0.0                   0.0                    1.0   \n",
       "\n",
       "   No. VICTIMA HERIDO  No. VICTIMA MUERTO  \n",
       "0                 2.0                 0.0  \n",
       "1                 2.0                 0.0  \n",
       "2                 1.0                 0.0  \n",
       "3                 1.0                 0.0  \n",
       "4                 1.0                 0.0  "
      ]
     },
     "execution_count": 45,
     "metadata": {},
     "output_type": "execute_result"
    }
   ],
   "source": [
    "df_caso.head()"
   ]
  },
  {
   "cell_type": "code",
   "execution_count": 53,
   "metadata": {},
   "outputs": [
    {
     "name": "stdout",
     "output_type": "stream",
     "text": [
      "RADICADO                     int64\n",
      "FECHA ACCIDENTE             object\n",
      "HORA ACCIDENTE              object\n",
      "CLASE ACCIDENTE             object\n",
      "GRAVEDAD                    object\n",
      "CLASIFICACIÓN               object\n",
      "DIRECCION                   object\n",
      "BARRIO                      object\n",
      "AREA ACCIDENTE              object\n",
      "ESTADO DELTIEMPO            object\n",
      "No. VICTIMA PEATON         float64\n",
      "No. VICTIMA ACOMPANANTE    float64\n",
      "No. VICTIMA PASAJERO       float64\n",
      "No. VICTIMA CONDUCTOR      float64\n",
      "No. VICTIMA HERIDO         float64\n",
      "No. VICTIMA MUERTO         float64\n",
      "dtype: object\n"
     ]
    }
   ],
   "source": [
    "print(df_duplicate.dtypes)"
   ]
  },
  {
   "cell_type": "code",
   "execution_count": 55,
   "metadata": {},
   "outputs": [],
   "source": [
    "#REEMPLAZAR NAN POR LA MEDIA EN COLUMNAS NUMNERICAS\n",
    "\n",
    "numeric_cols = df_duplicate.select_dtypes(include=['number']).columns\n",
    "df_duplicate[numeric_cols] = df_duplicate[numeric_cols].fillna(df_caso[numeric_cols].mean())"
   ]
  },
  {
   "cell_type": "code",
   "execution_count": 65,
   "metadata": {},
   "outputs": [
    {
     "data": {
      "text/plain": [
       "RADICADO                   0\n",
       "FECHA ACCIDENTE            0\n",
       "HORA ACCIDENTE             0\n",
       "CLASE ACCIDENTE            0\n",
       "GRAVEDAD                   0\n",
       "CLASIFICACIÓN              0\n",
       "DIRECCION                  2\n",
       "BARRIO                     0\n",
       "AREA ACCIDENTE             0\n",
       "ESTADO DELTIEMPO           0\n",
       "No. VICTIMA PEATON         0\n",
       "No. VICTIMA ACOMPANANTE    0\n",
       "No. VICTIMA PASAJERO       0\n",
       "No. VICTIMA CONDUCTOR      0\n",
       "No. VICTIMA HERIDO         0\n",
       "No. VICTIMA MUERTO         0\n",
       "dtype: int64"
      ]
     },
     "execution_count": 65,
     "metadata": {},
     "output_type": "execute_result"
    }
   ],
   "source": [
    "# Revisamos si el dataset contiene valores nulos\n",
    "df_duplicate.isnull().sum()"
   ]
  },
  {
   "cell_type": "code",
   "execution_count": 59,
   "metadata": {},
   "outputs": [
    {
     "data": {
      "image/png": "[encoded data removed]",
      "text/plain": [
       "<Figure size 1000x600 with 1 Axes>"
      ]
     },
     "metadata": {},
     "output_type": "display_data"
    }
   ],
   "source": [
    "## Visualizacion de la distribucion de cantidad de accidentes según gravedad del mismo\n",
    "plt.figure(figsize=(10,6))## tamaño del grafico\n",
    "sns.histplot(df_duplicate[\"GRAVEDAD\"],bins=20,edgecolor=\"k\")\n",
    "plt.title(\"Distribucion de accidentes\")\n",
    "plt.xlabel(\"GRAVEDAD\") ## titulo en eje x\n",
    "plt.ylabel(\"Cantidad de accidentes\") ## titulo en eje y\n",
    "plt.grid()## maya\n",
    "plt.show()## mostrar grafico"
   ]
  },
  {
   "cell_type": "markdown",
   "metadata": {},
   "source": [
    "Podemos evidenciar que mayormente se presentan heridos en los accidentes con aproximadamente 700 casos, mientras que en menor cantidad, pero sin restar importancia, se registraron casos de muerte"
   ]
  },
  {
   "cell_type": "markdown",
   "metadata": {},
   "source": [
    "## Agrupamiento"
   ]
  },
  {
   "cell_type": "code",
   "execution_count": 69,
   "metadata": {},
   "outputs": [
    {
     "data": {
      "text/html": [
       "<div>\n",
       "<style scoped>\n",
       "    .dataframe tbody tr th:only-of-type {\n",
       "        vertical-align: middle;\n",
       "    }\n",
       "\n",
       "    .dataframe tbody tr th {\n",
       "        vertical-align: top;\n",
       "    }\n",
       "\n",
       "    .dataframe thead th {\n",
       "        text-align: right;\n",
       "    }\n",
       "</style>\n",
       "<table border=\"1\" class=\"dataframe\">\n",
       "  <thead>\n",
       "    <tr style=\"text-align: right;\">\n",
       "      <th></th>\n",
       "      <th>CLASE ACCIDENTE</th>\n",
       "      <th>gravedad_casos</th>\n",
       "      <th>victima_pasajero</th>\n",
       "    </tr>\n",
       "  </thead>\n",
       "  <tbody>\n",
       "    <tr>\n",
       "      <th>0</th>\n",
       "      <td>Atropello</td>\n",
       "      <td>86</td>\n",
       "      <td>9.000000</td>\n",
       "    </tr>\n",
       "    <tr>\n",
       "      <th>1</th>\n",
       "      <td>Caida Ocupante</td>\n",
       "      <td>26</td>\n",
       "      <td>16.000000</td>\n",
       "    </tr>\n",
       "    <tr>\n",
       "      <th>2</th>\n",
       "      <td>Choque</td>\n",
       "      <td>437</td>\n",
       "      <td>86.824645</td>\n",
       "    </tr>\n",
       "    <tr>\n",
       "      <th>3</th>\n",
       "      <td>Otro</td>\n",
       "      <td>8</td>\n",
       "      <td>1.000000</td>\n",
       "    </tr>\n",
       "    <tr>\n",
       "      <th>4</th>\n",
       "      <td>Volcamiento</td>\n",
       "      <td>291</td>\n",
       "      <td>62.000000</td>\n",
       "    </tr>\n",
       "  </tbody>\n",
       "</table>\n",
       "</div>"
      ],
      "text/plain": [
       "  CLASE ACCIDENTE  gravedad_casos  victima_pasajero\n",
       "0       Atropello              86          9.000000\n",
       "1  Caida Ocupante              26         16.000000\n",
       "2          Choque             437         86.824645\n",
       "3            Otro               8          1.000000\n",
       "4     Volcamiento             291         62.000000"
      ]
     },
     "execution_count": 69,
     "metadata": {},
     "output_type": "execute_result"
    }
   ],
   "source": [
    "df_agrupado=df_duplicate.groupby([\"CLASE ACCIDENTE\"], as_index=False).agg(gravedad_casos=(\"GRAVEDAD\", \"count\"), victima_pasajero=(\"No. VICTIMA PASAJERO\",\"sum\"))\n",
    "df_agrupado"
   ]
  },
  {
   "cell_type": "code",
   "execution_count": 71,
   "metadata": {},
   "outputs": [],
   "source": [
    "# Opcional: índice de víctimas por caso\n",
    "df_agrupado['INDICE VICTIMAS'] = df_agrupado['victima_pasajero'] / df_agrupado['gravedad_casos']"
   ]
  },
  {
   "cell_type": "code",
   "execution_count": 75,
   "metadata": {},
   "outputs": [
    {
     "data": {
      "image/png": "[encoded data removed]",
      "text/plain": [
       "<Figure size 1000x600 with 1 Axes>"
      ]
     },
     "metadata": {},
     "output_type": "display_data"
    }
   ],
   "source": [
    "\n",
    "# --- Gráfico de barras agrupadas ---\n",
    "plt.figure(figsize=(10, 6))\n",
    "bar_width = 0.35\n",
    "x = range(len(df_agrupado))\n",
    "\n",
    "plt.bar(x, df_agrupado['gravedad_casos'], width=bar_width, label='Gravedad Casos')\n",
    "plt.bar([i + bar_width for i in x], df_agrupado['victima_pasajero'], width=bar_width, label='Víctimas Pasajero')\n",
    "\n",
    "plt.xticks([i + bar_width / 2 for i in x], df_agrupado['CLASE ACCIDENTE'], rotation=45)\n",
    "plt.ylabel(\"Número de casos\")\n",
    "plt.title(\"Casos y Víctimas por Clase de Accidente\")\n",
    "plt.legend()\n",
    "plt.tight_layout()\n",
    "plt.show()"
   ]
  },
  {
   "cell_type": "markdown",
   "metadata": {},
   "source": [
    "TEXTO"
   ]
  },
  {
   "cell_type": "code",
   "execution_count": 77,
   "metadata": {},
   "outputs": [
    {
     "name": "stderr",
     "output_type": "stream",
     "text": [
      "C:\\Users\\USER\\AppData\\Local\\Temp\\ipykernel_2068\\1604823831.py:3: FutureWarning: \n",
      "\n",
      "Passing `palette` without assigning `hue` is deprecated and will be removed in v0.14.0. Assign the `x` variable to `hue` and set `legend=False` for the same effect.\n",
      "\n",
      "  sns.barplot(x='CLASE ACCIDENTE', y='INDICE VICTIMAS', data=df_agrupado, palette='magma')\n"
     ]
    },
    {
     "data": {
      "image/png": "[encoded data removed]",
      "text/plain": [
       "<Figure size 1000x600 with 1 Axes>"
      ]
     },
     "metadata": {},
     "output_type": "display_data"
    }
   ],
   "source": [
    "# Gráfico del índice de víctimas por caso ---\n",
    "plt.figure(figsize=(10, 6))\n",
    "sns.barplot(x='CLASE ACCIDENTE', y='INDICE VICTIMAS', data=df_agrupado, palette='magma')\n",
    "plt.ylabel(\"Indice de víctimas pasajero por caso\")\n",
    "plt.title(\"Riesgo para pasajeros según tipo de accidente\")\n",
    "plt.xticks(rotation=45)\n",
    "plt.tight_layout()\n",
    "plt.show()"
   ]
  },
  {
   "cell_type": "code",
   "execution_count": null,
   "metadata": {},
   "outputs": [],
   "source": []
  },
  {
   "cell_type": "markdown",
   "metadata": {},
   "source": [
    "## Correlación"
   ]
  },
  {
   "cell_type": "code",
   "execution_count": 78,
   "metadata": {},
   "outputs": [
    {
     "name": "stdout",
     "output_type": "stream",
     "text": [
      "                  gravedad_casos  victima_pasajero  INDICE VICTIMAS\n",
      "gravedad_casos          1.000000          0.982729        -0.245408\n",
      "victima_pasajero        0.982729          1.000000        -0.082212\n",
      "INDICE VICTIMAS        -0.245408         -0.082212         1.000000\n"
     ]
    }
   ],
   "source": [
    "# Calcular correlación\n",
    "correlation_matrix = df_agrupado[['gravedad_casos', 'victima_pasajero', 'INDICE VICTIMAS']].corr()\n",
    "\n",
    "\n",
    "print(correlation_matrix)"
   ]
  },
  {
   "cell_type": "code",
   "execution_count": 79,
   "metadata": {},
   "outputs": [
    {
     "data": {
      "image/png": "[encoded data removed]",
      "text/plain": [
       "<Figure size 640x480 with 2 Axes>"
      ]
     },
     "metadata": {},
     "output_type": "display_data"
    }
   ],
   "source": [
    "# Graficamos el mapa de calor\n",
    "corr = df_agrupado[['gravedad_casos', 'victima_pasajero', 'INDICE VICTIMAS']].corr()\n",
    "\n",
    "sns.heatmap(corr, annot=True, cmap='coolwarm', fmt='.2f')\n",
    "plt.title(\"Matriz de correlación entre variables\")\n",
    "plt.show()"
   ]
  },
  {
   "cell_type": "code",
   "execution_count": 87,
   "metadata": {},
   "outputs": [
    {
     "data": {
      "image/png": "[encoded data removed]",
      "text/plain": [
       "<Figure size 1000x600 with 1 Axes>"
      ]
     },
     "metadata": {},
     "output_type": "display_data"
    }
   ],
   "source": [
    "# --- Gráfico de dispersión con etiquetas ---\n",
    "plt.figure(figsize=(10, 6))\n",
    "plt.scatter(df_agrupado['gravedad_casos'], df_agrupado['victima_pasajero'], color='blue')\n",
    "\n",
    "# Etiquetar cada punto con el tipo de accidente\n",
    "for i, row in df_agrupado.iterrows():\n",
    "    plt.text(row['gravedad_casos'] + 5,  # desplazamiento horizontal para no tapar el punto\n",
    "             row['victima_pasajero'],\n",
    "             row['CLASE ACCIDENTE'],\n",
    "             fontsize=9,\n",
    "             color='darkred')\n",
    "\n",
    "plt.xlabel(\"Gravedad de Casos\")\n",
    "plt.ylabel(\"Víctimas Pasajero\")\n",
    "plt.title(\"Relación entre gravedad de accidentes y víctimas pasajero\")\n",
    "plt.grid(True)\n",
    "plt.tight_layout()\n",
    "plt.show()"
   ]
  },
  {
   "cell_type": "markdown",
   "metadata": {},
   "source": [
    "A pesar de no ser una muestra de tamaño considerable, podemos considerar que al presentarse mayor cantidad de chques, se tienen como víctimas más pasajeros"
   ]
  },
  {
   "cell_type": "code",
   "execution_count": 84,
   "metadata": {},
   "outputs": [
    {
     "data": {
      "image/png": "[encoded data removed]",
      "text/plain": [
       "<Figure size 640x480 with 1 Axes>"
      ]
     },
     "metadata": {},
     "output_type": "display_data"
    }
   ],
   "source": [
    "sns.regplot(x='gravedad_casos', y='victima_pasajero', data=df_agrupado)\n",
    "plt.title(\"Relación entre gravedad y víctimas (con línea de regresión)\")\n",
    "plt.show()"
   ]
  },
  {
   "cell_type": "code",
   "execution_count": null,
   "metadata": {},
   "outputs": [],
   "source": []
  },
  {
   "cell_type": "code",
   "execution_count": null,
   "metadata": {},
   "outputs": [],
   "source": []
  },
  {
   "cell_type": "code",
   "execution_count": 14,
   "metadata": {},
   "outputs": [],
   "source": [
    "df_clasificado = df_duplicate.groupby([\"CLASIFICACIÓN\"], as_index=False).agg(victima_conductor=(\"No. VICTIMA CONDUCTOR\", \"count\"), victima_pasajero=(\"No. VICTIMA PASAJERO\",\"sum\"))"
   ]
  },
  {
   "cell_type": "code",
   "execution_count": 15,
   "metadata": {},
   "outputs": [
    {
     "data": {
      "text/html": [
       "<div>\n",
       "<style scoped>\n",
       "    .dataframe tbody tr th:only-of-type {\n",
       "        vertical-align: middle;\n",
       "    }\n",
       "\n",
       "    .dataframe tbody tr th {\n",
       "        vertical-align: top;\n",
       "    }\n",
       "\n",
       "    .dataframe thead th {\n",
       "        text-align: right;\n",
       "    }\n",
       "</style>\n",
       "<table border=\"1\" class=\"dataframe\">\n",
       "  <thead>\n",
       "    <tr style=\"text-align: right;\">\n",
       "      <th></th>\n",
       "      <th>CLASIFICACIÓN</th>\n",
       "      <th>victima_conductor</th>\n",
       "      <th>victima_pasajero</th>\n",
       "    </tr>\n",
       "  </thead>\n",
       "  <tbody>\n",
       "    <tr>\n",
       "      <th>0</th>\n",
       "      <td>Ciclista-Motociclista</td>\n",
       "      <td>808</td>\n",
       "      <td>169.0</td>\n",
       "    </tr>\n",
       "    <tr>\n",
       "      <th>1</th>\n",
       "      <td>Conductor</td>\n",
       "      <td>36</td>\n",
       "      <td>5.0</td>\n",
       "    </tr>\n",
       "  </tbody>\n",
       "</table>\n",
       "</div>"
      ],
      "text/plain": [
       "           CLASIFICACIÓN  victima_conductor  victima_pasajero\n",
       "0  Ciclista-Motociclista                808             169.0\n",
       "1              Conductor                 36               5.0"
      ]
     },
     "execution_count": 15,
     "metadata": {},
     "output_type": "execute_result"
    }
   ],
   "source": [
    "df_clasificado"
   ]
  },
  {
   "cell_type": "code",
   "execution_count": 18,
   "metadata": {},
   "outputs": [
    {
     "data": {
      "image/png": "[encoded data removed]",
      "text/plain": [
       "<Figure size 1000x600 with 1 Axes>"
      ]
     },
     "metadata": {},
     "output_type": "display_data"
    }
   ],
   "source": [
    "# --- Gráfico de barras agrupadas ---\n",
    "plt.figure(figsize=(10, 6))\n",
    "bar_width = 0.35\n",
    "x = range(len(df_clasificado))\n",
    "\n",
    "plt.bar(x, df_clasificado['victima_conductor'], width=bar_width, label='Víctima conductor')\n",
    "plt.bar([i + bar_width for i in x], df_clasificado['victima_pasajero'], width=bar_width, label='Víctimas Pasajero')\n",
    "\n",
    "plt.xticks([i + bar_width / 2 for i in x], df_clasificado['CLASIFICACIÓN'], rotation=45)\n",
    "plt.ylabel(\"Número de casos\")\n",
    "plt.title(\"Casos y Víctimas por Clase de Accidente\")\n",
    "plt.legend()\n",
    "plt.tight_layout()\n",
    "plt.show()"
   ]
  },
  {
   "cell_type": "markdown",
   "metadata": {},
   "source": [
    "# Resultados esperados"
   ]
  },
  {
   "cell_type": "markdown",
   "metadata": {},
   "source": [
    "- Se evidencia ambigüedad en la clasificación de el vehículo y/o tipo de conductor, ya que se muestra la mayoría de los casos como ciclista-motociclista, sin desconocer que el municipio de barbosa - antioquia es en gran parte zona rural.\n",
    "- En la mayoría de los casos, el afecto o victima es el conductor\n",
    "- A mayor cantidad de casos de accidente presentados, mayor cantidad de victimas\n",
    "- La mayor cantidad de casos se presentan por choque, seguido de volcamiento, lo que nos lleva a sugerir a la administración que se deben implementar campañas de concientización sobre el respeto a las normas y señales de transito (en cuanto a choques) y respecto a los casos de volcamiento, además de hacer control, incentivar a conducir a velocidades moderadas."
   ]
  }
 ],
 "metadata": {
  "colab": {
   "provenance": [],
   "toc_visible": true
  },
  "kernelspec": {
   "display_name": "Python 3 (ipykernel)",
   "language": "python",
   "name": "python3"
  },
  "language_info": {
   "codemirror_mode": {
    "name": "ipython",
    "version": 3
   },
   "file_extension": ".py",
   "mimetype": "text/x-python",
   "name": "python",
   "nbconvert_exporter": "python",
   "pygments_lexer": "ipython3",
   "version": "3.13.5"
  }
 },
 "nbformat": 4,
 "nbformat_minor": 4
}
